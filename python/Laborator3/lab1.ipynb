{
 "metadata": {
  "language_info": {
   "codemirror_mode": {
    "name": "ipython",
    "version": 3
   },
   "file_extension": ".py",
   "mimetype": "text/x-python",
   "name": "python",
   "nbconvert_exporter": "python",
   "pygments_lexer": "ipython3",
   "version": "3.9.2"
  },
  "orig_nbformat": 2,
  "kernelspec": {
   "name": "python392jvsc74a57bd094e415c8f35e90363157d7a6bf8ce556121099a0437a34db3a8caceab643a142",
   "display_name": "Python 3.9.2 64-bit"
  },
  "metadata": {
   "interpreter": {
    "hash": "94e415c8f35e90363157d7a6bf8ce556121099a0437a34db3a8caceab643a142"
   }
  }
 },
 "nbformat": 4,
 "nbformat_minor": 2,
 "cells": [
  {
   "source": [
    "# Laborator 3\n",
    "<h3>L3.1. Scrieți o foaie Jupyter cu un bloc Markdown în care să explicați pașii de rezolvare a unei ecuații de gradul 1 și un bloc de cod care să rezolve o astfel de ecuație, cu coeficienții aleși aleatoriu (folosind random).</h3>\n",
    "\n",
    "$a\\cdot x + b = 0$\n",
    "\n",
    "Se scoate $x$ din ecuatie:\n",
    "\n",
    "$x = {{-b}\\over{a}}$\n",
    "\n",
    "si se calculeaza."
   ],
   "cell_type": "markdown",
   "metadata": {}
  },
  {
   "cell_type": "code",
   "execution_count": 16,
   "metadata": {},
   "outputs": [
    {
     "output_type": "stream",
     "name": "stdout",
     "text": [
      "a= -0.4741237421376704\nb=0.9282707124985916\nx = 1.957865911361704\n"
     ]
    }
   ],
   "source": [
    "from numpy.random import default_rng\n",
    "rng = default_rng()\n",
    "a = rng.standard_normal()\n",
    "b = rng.standard_normal()\n",
    "print(f'a= {a}\\nb={b}\\nx = {-b/a}')"
   ]
  },
  {
   "source": [
    "<h3>L3.2. Scrieți o foaie Jupyter cu un bloc Markdown în care explicați ce este un număr prim și un bloc de cod în care afișați primele 100 de numere prime.</h3>\n",
    "\n",
    "Un numar prim este un numar natural care se imparte exact la 1 si la el insusi.\n"
   ],
   "cell_type": "markdown",
   "metadata": {}
  },
  {
   "cell_type": "code",
   "execution_count": 23,
   "metadata": {},
   "outputs": [
    {
     "output_type": "stream",
     "name": "stdout",
     "text": [
      "Primele 100 numere prime:\n2\n3\n5\n7\n11\n13\n17\n19\n23\n29\n31\n37\n41\n43\n47\n53\n59\n61\n67\n71\n73\n79\n83\n89\n97\n101\n103\n107\n109\n113\n127\n131\n137\n139\n149\n151\n157\n163\n167\n173\n179\n181\n191\n193\n197\n199\n211\n223\n227\n229\n233\n239\n241\n251\n257\n263\n269\n271\n277\n281\n283\n293\n307\n311\n313\n317\n331\n337\n347\n349\n353\n359\n367\n373\n379\n383\n389\n397\n401\n409\n419\n421\n431\n433\n439\n443\n449\n457\n461\n463\n467\n479\n487\n491\n499\n503\n509\n521\n523\n541\n547\n557\n563\n569\n571\n577\n587\n593\n599\n601\n607\n613\n617\n619\n631\n"
     ]
    }
   ],
   "source": [
    "from sympy import sieve\n",
    "sieve._reset()\n",
    "sieve.extend_to_no(100)\n",
    "a=sieve._list\n",
    "print('Primele 100 numere prime:')\n",
    "for i in a:\n",
    "    print(i)"
   ]
  },
  {
   "source": [
    "<h3>L3.3. Scrieți o foaie Jupyter cu un bloc Markdown în care explicați algoritmul lui Euclid cu scăderi repetate și un bloc de cod în care să îl aplicați pentru trei perechi de numere alese aleatoriu (folosiți random.randint).</h3>\n",
    "\n",
    "1. Se compara cele doua numere a si b\n",
    "\n",
    "2. Daca a > b atunci a=a-b\n",
    "\n",
    "3. Altfel b=b-a\n",
    "\n",
    "4. Se afiseaza a"
   ],
   "cell_type": "markdown",
   "metadata": {}
  },
  {
   "cell_type": "code",
   "execution_count": 77,
   "metadata": {},
   "outputs": [
    {
     "output_type": "stream",
     "name": "stdout",
     "text": [
      "cmmdc alea numerelor 1919 si 8846 este:\n1\ncmmdc alea numerelor 6764 si 6596 este:\n4\ncmmdc alea numerelor 868 si 1840 este:\n4\n"
     ]
    }
   ],
   "source": [
    "import random\n",
    "def cmmdc():\n",
    "    a=random.randint(0,10000)\n",
    "    b=random.randint(0,10000)\n",
    "    print(f'cmmdc alea numerelor {a} si {b} este:')\n",
    "    while a!=b:\n",
    "        if(a>b):\n",
    "            a=a-b\n",
    "        else:\n",
    "            b=b-a\n",
    "    print(a)\n",
    "\n",
    "cmmdc()\n",
    "cmmdc()\n",
    "cmmdc()"
   ]
  },
  {
   "source": [
    "<h3>L3.4. Scrieți o foaie Jupyter cu un bloc Markdown în care explicați procedura de calcul al sumei cifrelor unui număr și un bloc de cod în care să calculați această sumă pentru un număr de 10 cifre, ales aleatoriu (folosiți random.randint, cu intervalul corespunzător).</h3>"
   ],
   "cell_type": "markdown",
   "metadata": {}
  },
  {
   "cell_type": "code",
   "execution_count": 90,
   "metadata": {},
   "outputs": [
    {
     "output_type": "stream",
     "name": "stdout",
     "text": [
      "46\n"
     ]
    }
   ],
   "source": [
    "import random\n",
    "numar=random.randint(999999999,9999999999)\n",
    "suma=0\n",
    "while numar>0:\n",
    "    suma+=(numar%10)\n",
    "    numar//=10\n",
    "print(suma)"
   ]
  },
  {
   "cell_type": "code",
   "execution_count": null,
   "metadata": {},
   "outputs": [],
   "source": []
  }
 ]
}