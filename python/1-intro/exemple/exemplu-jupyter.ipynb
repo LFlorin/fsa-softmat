{
 "cells": [
  {
   "cell_type": "markdown",
   "metadata": {},
   "source": [
    "# Exemplu Jupyter"
   ]
  },
  {
   "cell_type": "markdown",
   "metadata": {},
   "source": [
    "Se poate crea o celulă de text, folosind sintaxa [Markdown](https://www.markdownguide.org/basic-syntax) alegînd din meniul superior Cell > Cell Type > Markdown.\n",
    "\n",
    "O dată creată, celula se \"execută\" apăsînd `Shift + Enter`, care ne va trece automat la celula următoare.\n",
    "\n",
    "Ea poate fi modificată ulterior dînd dublu click stînga pe conținutul său și efectuînd modificările."
   ]
  },
  {
   "cell_type": "markdown",
   "metadata": {},
   "source": [
    "Implicit, celulele sînt de tip Python. Astfel, putem scrie cod Python și, apăsînd `Shift + Enter`, codul este executat, iar rezultatele apar dedesubt, ca în celulele de mai jos."
   ]
  },
  {
   "cell_type": "code",
   "execution_count": 1,
   "metadata": {},
   "outputs": [
    {
     "name": "stdout",
     "output_type": "stream",
     "text": [
      "Suma dintre 3 și 5 este 8\n",
      "Dacă se afișează acest mesaj, înseamnă că funcționează!\n"
     ]
    }
   ],
   "source": [
    "a = 3\n",
    "b = 5\n",
    "print(f\"Suma dintre {a} și {b} este {a + b}\")\n",
    "\n",
    "print(\"Dacă se afișează acest mesaj, înseamnă că funcționează!\")"
   ]
  },
  {
   "cell_type": "markdown",
   "metadata": {},
   "source": [
    "Codul poate fi oricît de complicat și între bucățile de cod, putem introduce explicații suplimentare în formatul celulelor Markdown, ca aceasta."
   ]
  },
  {
   "cell_type": "code",
   "execution_count": 3,
   "metadata": {},
   "outputs": [
    {
     "name": "stdout",
     "output_type": "stream",
     "text": [
      "Numărul 287705 nu este prim. Primul său divizor este 5.\n"
     ]
    }
   ],
   "source": [
    "# folosim biblioteci suplimentare\n",
    "import random\n",
    "import math # util pentru funcția sqrt = radical\n",
    "\n",
    "# generăm un număr aleatoriu\n",
    "n = random.randint(1, 1000000)\n",
    "\n",
    "# inițializăm un \"semafor\"\n",
    "prim = True\n",
    "\n",
    "# testăm dacă numărul este prim\n",
    "for i in range(2, int(math.sqrt(n)) + 1):\n",
    "    if n % i == 0:\n",
    "        prim = False\n",
    "        break\n",
    "        \n",
    "if (prim == True):\n",
    "    print(f\"Numărul {n} este prim.\")\n",
    "else:\n",
    "    print(f\"Numărul {n} nu este prim. Primul său divizor este {i}.\")"
   ]
  },
  {
   "cell_type": "markdown",
   "metadata": {},
   "source": [
    "Bucățelele de cod, însă, nu pot comunica între ele, decît foarte greu. De asemenea, nu funcționează citirea de la tastatură a variabilelor. De aceea, aceste exemple se folosesc atunci cînd scopul este demonstrativ, pe cazuri prestabilite, fără interacțiune cu programul."
   ]
  },
  {
   "cell_type": "code",
   "execution_count": null,
   "metadata": {},
   "outputs": [],
   "source": []
  }
 ],
 "metadata": {
  "kernelspec": {
   "display_name": "Python 3",
   "language": "python",
   "name": "python3"
  },
  "language_info": {
   "codemirror_mode": {
    "name": "ipython",
    "version": 3
   },
   "file_extension": ".py",
   "mimetype": "text/x-python",
   "name": "python",
   "nbconvert_exporter": "python",
   "pygments_lexer": "ipython3",
   "version": "3.9.1"
  }
 },
 "nbformat": 4,
 "nbformat_minor": 4
}
